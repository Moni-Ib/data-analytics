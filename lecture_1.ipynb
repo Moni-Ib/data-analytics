{
  "nbformat": 4,
  "nbformat_minor": 0,
  "metadata": {
    "colab": {
      "provenance": [],
      "authorship_tag": "ABX9TyMAzfx4CcraTZkc5HOHWGP9",
      "include_colab_link": true
    },
    "kernelspec": {
      "name": "python3",
      "display_name": "Python 3"
    },
    "language_info": {
      "name": "python"
    }
  },
  "cells": [
    {
      "cell_type": "markdown",
      "metadata": {
        "id": "view-in-github",
        "colab_type": "text"
      },
      "source": [
        "<a href=\"https://colab.research.google.com/github/Moni-Ib/data-analytics/blob/main/lecture_1.ipynb\" target=\"_parent\"><img src=\"https://colab.research.google.com/assets/colab-badge.svg\" alt=\"Open In Colab\"/></a>"
      ]
    },
    {
      "cell_type": "code",
      "execution_count": 1,
      "metadata": {
        "colab": {
          "base_uri": "https://localhost:8080/"
        },
        "id": "46DX69MZFl_C",
        "outputId": "85d8c4e0-15a1-42a2-db95-a912dd2391c0"
      },
      "outputs": [
        {
          "output_type": "stream",
          "name": "stdout",
          "text": [
            "hello world\n"
          ]
        }
      ],
      "source": [
        "print(\"hello world\")"
      ]
    },
    {
      "cell_type": "code",
      "source": [],
      "metadata": {
        "id": "n8PPsRmgF9Qp"
      },
      "execution_count": null,
      "outputs": []
    },
    {
      "cell_type": "markdown",
      "source": [
        "# Título\n",
        "## Subtítulo\n",
        "### SubSubtítulo"
      ],
      "metadata": {
        "id": "_5-NnddlGORN"
      }
    },
    {
      "cell_type": "markdown",
      "source": [],
      "metadata": {
        "id": "42AKhqywHVX-"
      }
    },
    {
      "cell_type": "markdown",
      "source": [
        "$ x_a = c + b + s^2 $\n",
        "conditional probability\n",
        "\n",
        "$$\n",
        "P(x) = p(x|y)\n",
        "$$"
      ],
      "metadata": {
        "id": "nkBMtcSjHVaC"
      }
    },
    {
      "cell_type": "code",
      "source": [],
      "metadata": {
        "id": "P8XOZxAhGXL-"
      },
      "execution_count": null,
      "outputs": []
    }
  ]
}