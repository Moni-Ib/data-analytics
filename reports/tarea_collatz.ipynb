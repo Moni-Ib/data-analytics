{
 "cells": [
  {
   "cell_type": "code",
   "execution_count": null,
   "metadata": {},
   "outputs": [],
   "source": [
    "a = int(input(\"Ingrese un número entero: \"))\n",
    "b = int(input(\"Ingrese otro número entero: \"))"
   ]
  },
  {
   "cell_type": "code",
   "execution_count": null,
   "metadata": {},
   "outputs": [],
   "source": [
    "numero_mayor = 0 \n",
    "lista_mayor = 0\n",
    "for x in range(a, b+1):\n",
    "    numero = x\n",
    "    longitud_actual = 1\n",
    "    while numero != 1:\n",
    "        if numero % 2 == 0:\n",
    "            numero = numero // 2\n",
    "        elif numero % 2 != 0:\n",
    "            numero = numero * 3 + 1\n",
    "        longitud_actual += 1\n",
    "if longitud_actual > lista_mayor:\n",
    "    lista_mayor = longitud_actual\n",
    "    numero_mayor = x\n",
    "\n",
    "print(f\"El número {numero_mayor} tiene la secuencia de Collatz más larga, de longitud {lista_mayor} en el rango de {a} a {b}\")\n"
   ]
  }
 ],
 "metadata": {
  "language_info": {
   "name": "python"
  }
 },
 "nbformat": 4,
 "nbformat_minor": 2
}
