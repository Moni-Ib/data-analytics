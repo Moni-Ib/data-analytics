{
 "cells": [
  {
   "cell_type": "markdown",
   "metadata": {},
   "source": [
    "Programa que obtiene la secuencia de Collatz más larga dentro de un rango de 2 números enteros"
   ]
  },
  {
   "cell_type": "code",
   "execution_count": 3,
   "metadata": {},
   "outputs": [],
   "source": [
    "a = int(input(\"Ingrese un número entero: \"))\n",
    "b = int(input(\"Ingrese otro número entero: \"))"
   ]
  },
  {
   "cell_type": "code",
   "execution_count": null,
   "metadata": {},
   "outputs": [
    {
     "name": "stdout",
     "output_type": "stream",
     "text": [
      "El número 3 tiene la secuencia de Collatz más larga, de longitud 8 en el rango de 1 a 4\n"
     ]
    }
   ],
   "source": [
    "numero_mayor_incial = 0 \n",
    "lista_mayor = 0\n",
    "for x in range(a, b+1):\n",
    "    numero = x\n",
    "    longitud_actual = 1\n",
    "    while numero != 1:\n",
    "        if numero % 2 == 0:\n",
    "            numero = numero // 2\n",
    "        elif numero % 2 != 0:\n",
    "            numero = numero * 3 + 1\n",
    "        longitud_actual += 1\n",
    "    if longitud_actual > lista_mayor:\n",
    "        lista_mayor = longitud_actual\n",
    "        numero_mayor_inicial = x\n",
    "\n",
    "print(f\"El número {numero_mayor_inicial} tiene la secuencia de Collatz más larga, de longitud {lista_mayor} en el rango de {a} a {b}\")\n"
   ]
  }
 ],
 "metadata": {
  "kernelspec": {
   "display_name": "iteso",
   "language": "python",
   "name": "python3"
  },
  "language_info": {
   "codemirror_mode": {
    "name": "ipython",
    "version": 3
   },
   "file_extension": ".py",
   "mimetype": "text/x-python",
   "name": "python",
   "nbconvert_exporter": "python",
   "pygments_lexer": "ipython3",
   "version": "3.10.13"
  }
 },
 "nbformat": 4,
 "nbformat_minor": 2
}
